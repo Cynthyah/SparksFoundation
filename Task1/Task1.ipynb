{
 "cells": [
  {
   "cell_type": "markdown",
   "id": "f55bcc15-c04e-4cc3-8a86-942e0d535296",
   "metadata": {},
   "source": [
    "# The Sparks Foundation"
   ]
  },
  {
   "cell_type": "markdown",
   "id": "365ad37b-b2a8-4f0d-9558-dea8139dac92",
   "metadata": {},
   "source": [
    "## Task1 - Prediction using Supervised ML \n",
    "- Predict the percentage of an student based on the no. of study hours. \n",
    "- This is a simple linear  regression task as it involves just 2 variables.\n",
    "- You can use R, Python, SAS Enterprise Miner or any other tool  \n",
    "- Data can be found at http://bit.ly/w-data -> save as **scores_students.txt**\n",
    "- What will be predicted score if a student studies for 9.25 hrs/ day? "
   ]
  },
  {
   "cell_type": "markdown",
   "id": "ce1a2b3d-3d45-4226-907a-8e7968123a06",
   "metadata": {},
   "source": [
    "### Importing the libraries"
   ]
  },
  {
   "cell_type": "code",
   "execution_count": 23,
   "id": "d9ffac44-6d72-452f-aa45-bf89ad112be9",
   "metadata": {},
   "outputs": [],
   "source": [
    "import pandas as pd\n",
    "from scipy import stats\n",
    "import statistics as stat\n",
    "import matplotlib.pyplot as plt\n"
   ]
  },
  {
   "cell_type": "code",
   "execution_count": 24,
   "id": "452c78ec-cba5-4f3e-9a53-d8ee8fa4800e",
   "metadata": {},
   "outputs": [
    {
     "data": {
      "text/html": [
       "<div>\n",
       "<style scoped>\n",
       "    .dataframe tbody tr th:only-of-type {\n",
       "        vertical-align: middle;\n",
       "    }\n",
       "\n",
       "    .dataframe tbody tr th {\n",
       "        vertical-align: top;\n",
       "    }\n",
       "\n",
       "    .dataframe thead th {\n",
       "        text-align: right;\n",
       "    }\n",
       "</style>\n",
       "<table border=\"1\" class=\"dataframe\">\n",
       "  <thead>\n",
       "    <tr style=\"text-align: right;\">\n",
       "      <th></th>\n",
       "      <th>Hours</th>\n",
       "      <th>Scores</th>\n",
       "    </tr>\n",
       "  </thead>\n",
       "  <tbody>\n",
       "    <tr>\n",
       "      <th>0</th>\n",
       "      <td>2.5</td>\n",
       "      <td>21</td>\n",
       "    </tr>\n",
       "    <tr>\n",
       "      <th>1</th>\n",
       "      <td>5.1</td>\n",
       "      <td>47</td>\n",
       "    </tr>\n",
       "    <tr>\n",
       "      <th>2</th>\n",
       "      <td>3.2</td>\n",
       "      <td>27</td>\n",
       "    </tr>\n",
       "    <tr>\n",
       "      <th>3</th>\n",
       "      <td>8.5</td>\n",
       "      <td>75</td>\n",
       "    </tr>\n",
       "    <tr>\n",
       "      <th>4</th>\n",
       "      <td>3.5</td>\n",
       "      <td>30</td>\n",
       "    </tr>\n",
       "    <tr>\n",
       "      <th>5</th>\n",
       "      <td>1.5</td>\n",
       "      <td>20</td>\n",
       "    </tr>\n",
       "    <tr>\n",
       "      <th>6</th>\n",
       "      <td>9.2</td>\n",
       "      <td>88</td>\n",
       "    </tr>\n",
       "    <tr>\n",
       "      <th>7</th>\n",
       "      <td>5.5</td>\n",
       "      <td>60</td>\n",
       "    </tr>\n",
       "    <tr>\n",
       "      <th>8</th>\n",
       "      <td>8.3</td>\n",
       "      <td>81</td>\n",
       "    </tr>\n",
       "    <tr>\n",
       "      <th>9</th>\n",
       "      <td>2.7</td>\n",
       "      <td>25</td>\n",
       "    </tr>\n",
       "    <tr>\n",
       "      <th>10</th>\n",
       "      <td>7.7</td>\n",
       "      <td>85</td>\n",
       "    </tr>\n",
       "    <tr>\n",
       "      <th>11</th>\n",
       "      <td>5.9</td>\n",
       "      <td>62</td>\n",
       "    </tr>\n",
       "    <tr>\n",
       "      <th>12</th>\n",
       "      <td>4.5</td>\n",
       "      <td>41</td>\n",
       "    </tr>\n",
       "    <tr>\n",
       "      <th>13</th>\n",
       "      <td>3.3</td>\n",
       "      <td>42</td>\n",
       "    </tr>\n",
       "    <tr>\n",
       "      <th>14</th>\n",
       "      <td>1.1</td>\n",
       "      <td>17</td>\n",
       "    </tr>\n",
       "    <tr>\n",
       "      <th>15</th>\n",
       "      <td>8.9</td>\n",
       "      <td>95</td>\n",
       "    </tr>\n",
       "    <tr>\n",
       "      <th>16</th>\n",
       "      <td>2.5</td>\n",
       "      <td>30</td>\n",
       "    </tr>\n",
       "    <tr>\n",
       "      <th>17</th>\n",
       "      <td>1.9</td>\n",
       "      <td>24</td>\n",
       "    </tr>\n",
       "    <tr>\n",
       "      <th>18</th>\n",
       "      <td>6.1</td>\n",
       "      <td>67</td>\n",
       "    </tr>\n",
       "    <tr>\n",
       "      <th>19</th>\n",
       "      <td>7.4</td>\n",
       "      <td>69</td>\n",
       "    </tr>\n",
       "    <tr>\n",
       "      <th>20</th>\n",
       "      <td>2.7</td>\n",
       "      <td>30</td>\n",
       "    </tr>\n",
       "    <tr>\n",
       "      <th>21</th>\n",
       "      <td>4.8</td>\n",
       "      <td>54</td>\n",
       "    </tr>\n",
       "    <tr>\n",
       "      <th>22</th>\n",
       "      <td>3.8</td>\n",
       "      <td>35</td>\n",
       "    </tr>\n",
       "    <tr>\n",
       "      <th>23</th>\n",
       "      <td>6.9</td>\n",
       "      <td>76</td>\n",
       "    </tr>\n",
       "    <tr>\n",
       "      <th>24</th>\n",
       "      <td>7.8</td>\n",
       "      <td>86</td>\n",
       "    </tr>\n",
       "  </tbody>\n",
       "</table>\n",
       "</div>"
      ],
      "text/plain": [
       "    Hours  Scores\n",
       "0     2.5      21\n",
       "1     5.1      47\n",
       "2     3.2      27\n",
       "3     8.5      75\n",
       "4     3.5      30\n",
       "5     1.5      20\n",
       "6     9.2      88\n",
       "7     5.5      60\n",
       "8     8.3      81\n",
       "9     2.7      25\n",
       "10    7.7      85\n",
       "11    5.9      62\n",
       "12    4.5      41\n",
       "13    3.3      42\n",
       "14    1.1      17\n",
       "15    8.9      95\n",
       "16    2.5      30\n",
       "17    1.9      24\n",
       "18    6.1      67\n",
       "19    7.4      69\n",
       "20    2.7      30\n",
       "21    4.8      54\n",
       "22    3.8      35\n",
       "23    6.9      76\n",
       "24    7.8      86"
      ]
     },
     "execution_count": 24,
     "metadata": {},
     "output_type": "execute_result"
    }
   ],
   "source": [
    "# loading the file \n",
    "df = pd.read_csv(\"scores_students.txt\")\n",
    "df"
   ]
  },
  {
   "cell_type": "code",
   "execution_count": 25,
   "id": "a17b4949-9c39-4b16-b4ee-1d267dcb933e",
   "metadata": {},
   "outputs": [],
   "source": [
    "# before ploting, let´s sorted by hours\n",
    "df.sort_values(by=\"Hours\",inplace=True)"
   ]
  },
  {
   "cell_type": "code",
   "execution_count": 26,
   "id": "4444ce60-f063-428c-b520-1a36f7ec1966",
   "metadata": {},
   "outputs": [
    {
     "data": {
      "text/plain": [
       "<AxesSubplot:xlabel='Hours', ylabel='Scores'>"
      ]
     },
     "execution_count": 26,
     "metadata": {},
     "output_type": "execute_result"
    },
    {
     "data": {
      "image/png": "[encoded data removed]",
      "text/plain": [
       "<Figure size 432x288 with 1 Axes>"
      ]
     },
     "metadata": {},
     "output_type": "display_data"
    }
   ],
   "source": [
    "# let´s see the plot to have our first analysis\n",
    "df.plot.scatter(\"Hours\",\"Scores\") "
   ]
  },
  {
   "cell_type": "markdown",
   "id": "61530ebe-4501-4b1a-bff2-a4f84fc732e0",
   "metadata": {},
   "source": [
    "**Observing the first plot** \n",
    "\n",
    "Checking the plot above we can see the most hours studying, highest scores.\n",
    "So, we can say that the hours are directly linked to the scores."
   ]
  },
  {
   "cell_type": "markdown",
   "id": "df54ca3a-b8d3-4f48-885a-b7aae1d55068",
   "metadata": {},
   "source": [
    "### Let´s check the relationship between the Hours(x) and Scores(y)"
   ]
  },
  {
   "cell_type": "code",
   "execution_count": 27,
   "id": "57f1aa48-2ed3-4264-ae97-4dd7e8d32529",
   "metadata": {},
   "outputs": [
    {
     "data": {
      "image/png": "[encoded data removed]",
      "text/plain": [
       "<Figure size 576x360 with 1 Axes>"
      ]
     },
     "metadata": {
      "needs_background": "light"
     },
     "output_type": "display_data"
    }
   ],
   "source": [
    "# Now let´s draw a linear regression to check how well the data fits on the linear regression\n",
    "\n",
    "# Here we need to import some modules like scipy and stats \n",
    "%matplotlib inline\n",
    "fig, ax = plt.subplots(figsize=(8,5))\n",
    "plt.style.use(\"seaborn-darkgrid\")\n",
    "\n",
    "x = df[\"Hours\"]\n",
    "y = df[\"Scores\"]\n",
    "\n",
    "# drawing the data again using matplotlib, so we can customize the plot\n",
    "ax.scatter(x,y, color=\"b\",marker='o',linewidths=0.5)\n",
    "\n",
    "# executing the linregress to get some values related to the data we have\n",
    "slope, intercept, r, p, std_err = stats.linregress(x, y)\n",
    "\n",
    "\n",
    "def myfunc(x):\n",
    "  return slope * x + intercept\n",
    "\n",
    "mymodel = list(map(myfunc, x))\n",
    "plt.plot(x, mymodel,color='r')\n",
    "\n",
    "ax.set_title('Students - Hours Studying x Scores',fontsize=20)\n",
    "ax.set_xlabel('Hours Studying',fontsize=16)\n",
    "ax.set_ylabel('Scores',fontsize=16)\n",
    "\n",
    "# insert a straight line horizontaly and verticaly(meanx and meany)\n",
    "plt.axhline(y=avgy, color='gray', linestyle='-',label=f'Mean Y: {avgy:.2f}')\n",
    "plt.axvline(x=avgx, color='g', linestyle='-',label=f'Mean X: {avgx:.2f}')\n",
    "plt.legend()\n",
    "\n",
    "plt.show()"
   ]
  },
  {
   "cell_type": "markdown",
   "id": "e95fb304-29e8-4715-a3ec-867985f07fba",
   "metadata": {},
   "source": [
    "### Let´s calculate some information about the linear regression related to our data"
   ]
  },
  {
   "cell_type": "code",
   "execution_count": 43,
   "id": "68d3ce23-110c-49be-a8ed-4c8fc06f7ffd",
   "metadata": {},
   "outputs": [
    {
     "name": "stdout",
     "output_type": "stream",
     "text": [
      "The average Hours of studying is: 5.01\n",
      "The average Scores is: 51.48\n",
      "The slope(m) is 9.77580339078747 ---> Positive\n",
      "The intercept(b) is 2.483673405373203 ---> indicate in which point of axis Y the line will cross\n",
      "R: 0.9761906560220885\n",
      "R2: 0.9529481969048356 ---> indicate how well the data fits on the linear regression\n",
      "p-value: 9.132624467459785e-17 ---> indicate how confidence is the value of R2\n"
     ]
    }
   ],
   "source": [
    "# What is the Average Hours of studying    \n",
    "avgx = stat.mean(x)\n",
    "print(f\"The average Hours of studying is: {avgx:.2f}\")\n",
    "\n",
    "# What is the Average Scores \n",
    "avgy = stat.mean(y)\n",
    "print(f\"The average Scores is: {avgy:.2f}\")\n",
    "\n",
    "# let´s check if the slope are Positive or Negative\n",
    "if slope > 0:\n",
    "    line = \"Positive\"\n",
    "elif slope < 0:\n",
    "    line = \"Negative\"\n",
    "else:\n",
    "    line = \"\"\n",
    "print(f\"The slope(m) is {slope} ---> {line}\")\n",
    "\n",
    "print(f\"The intercept(b) is {intercept} ---> indicate in which point of axis Y the line will cross\")\n",
    "print(f\"R: {r}\")\n",
    "print(f\"R2: {r**2} ---> indicate how well the data fits on the linear regression\")\n",
    "print(f\"p-value: {p} ---> indicate how confidence is the value of R2\")\n"
   ]
  },
  {
   "cell_type": "code",
   "execution_count": 36,
   "id": "44a00924-3fde-497a-b239-997a20edc784",
   "metadata": {},
   "outputs": [
    {
     "data": {
      "text/html": [
       "<div>\n",
       "<style scoped>\n",
       "    .dataframe tbody tr th:only-of-type {\n",
       "        vertical-align: middle;\n",
       "    }\n",
       "\n",
       "    .dataframe tbody tr th {\n",
       "        vertical-align: top;\n",
       "    }\n",
       "\n",
       "    .dataframe thead th {\n",
       "        text-align: right;\n",
       "    }\n",
       "</style>\n",
       "<table border=\"1\" class=\"dataframe\">\n",
       "  <thead>\n",
       "    <tr style=\"text-align: right;\">\n",
       "      <th></th>\n",
       "      <th>Hours</th>\n",
       "      <th>Scores</th>\n",
       "    </tr>\n",
       "  </thead>\n",
       "  <tbody>\n",
       "    <tr>\n",
       "      <th>count</th>\n",
       "      <td>25.000000</td>\n",
       "      <td>25.000000</td>\n",
       "    </tr>\n",
       "    <tr>\n",
       "      <th>mean</th>\n",
       "      <td>5.012000</td>\n",
       "      <td>51.480000</td>\n",
       "    </tr>\n",
       "    <tr>\n",
       "      <th>std</th>\n",
       "      <td>2.525094</td>\n",
       "      <td>25.286887</td>\n",
       "    </tr>\n",
       "    <tr>\n",
       "      <th>min</th>\n",
       "      <td>1.100000</td>\n",
       "      <td>17.000000</td>\n",
       "    </tr>\n",
       "    <tr>\n",
       "      <th>25%</th>\n",
       "      <td>2.700000</td>\n",
       "      <td>30.000000</td>\n",
       "    </tr>\n",
       "    <tr>\n",
       "      <th>50%</th>\n",
       "      <td>4.800000</td>\n",
       "      <td>47.000000</td>\n",
       "    </tr>\n",
       "    <tr>\n",
       "      <th>75%</th>\n",
       "      <td>7.400000</td>\n",
       "      <td>75.000000</td>\n",
       "    </tr>\n",
       "    <tr>\n",
       "      <th>max</th>\n",
       "      <td>9.200000</td>\n",
       "      <td>95.000000</td>\n",
       "    </tr>\n",
       "  </tbody>\n",
       "</table>\n",
       "</div>"
      ],
      "text/plain": [
       "           Hours     Scores\n",
       "count  25.000000  25.000000\n",
       "mean    5.012000  51.480000\n",
       "std     2.525094  25.286887\n",
       "min     1.100000  17.000000\n",
       "25%     2.700000  30.000000\n",
       "50%     4.800000  47.000000\n",
       "75%     7.400000  75.000000\n",
       "max     9.200000  95.000000"
      ]
     },
     "execution_count": 36,
     "metadata": {},
     "output_type": "execute_result"
    }
   ],
   "source": [
    "# we can use the describe and corr from pandas to confirm some values\n",
    "df.describe()"
   ]
  },
  {
   "cell_type": "code",
   "execution_count": 35,
   "id": "cb0fc006-22f6-4895-9b35-42672d6adf27",
   "metadata": {},
   "outputs": [
    {
     "data": {
      "text/html": [
       "<div>\n",
       "<style scoped>\n",
       "    .dataframe tbody tr th:only-of-type {\n",
       "        vertical-align: middle;\n",
       "    }\n",
       "\n",
       "    .dataframe tbody tr th {\n",
       "        vertical-align: top;\n",
       "    }\n",
       "\n",
       "    .dataframe thead th {\n",
       "        text-align: right;\n",
       "    }\n",
       "</style>\n",
       "<table border=\"1\" class=\"dataframe\">\n",
       "  <thead>\n",
       "    <tr style=\"text-align: right;\">\n",
       "      <th></th>\n",
       "      <th>Hours</th>\n",
       "      <th>Scores</th>\n",
       "    </tr>\n",
       "  </thead>\n",
       "  <tbody>\n",
       "    <tr>\n",
       "      <th>Hours</th>\n",
       "      <td>1.000000</td>\n",
       "      <td>0.976191</td>\n",
       "    </tr>\n",
       "    <tr>\n",
       "      <th>Scores</th>\n",
       "      <td>0.976191</td>\n",
       "      <td>1.000000</td>\n",
       "    </tr>\n",
       "  </tbody>\n",
       "</table>\n",
       "</div>"
      ],
      "text/plain": [
       "           Hours    Scores\n",
       "Hours   1.000000  0.976191\n",
       "Scores  0.976191  1.000000"
      ]
     },
     "execution_count": 35,
     "metadata": {},
     "output_type": "execute_result"
    }
   ],
   "source": [
    "df.corr()"
   ]
  },
  {
   "cell_type": "markdown",
   "id": "f37817f6-56b8-49be-9a4d-7034c0fc0349",
   "metadata": {},
   "source": [
    "## Prediction\n",
    "**What will be predicted score if a student studies for 9.25 hrs/ day?**"
   ]
  },
  {
   "cell_type": "code",
   "execution_count": 32,
   "id": "e5cede98-015f-4cd3-86cc-df3e947b2e34",
   "metadata": {},
   "outputs": [
    {
     "name": "stdout",
     "output_type": "stream",
     "text": [
      "If a student studies 9.25 hours per day, the predict Scores is 92.91\n"
     ]
    }
   ],
   "source": [
    "# Using the same funtion above(myfunc) let´s check the prediction score if a student studies 9.25 hours\n",
    "hour_predict = 9.25\n",
    "score_predict = myfunc(hour_predict)\n",
    "print(f\"If a student studies {hour_predict} hours per day, the predict Scores is {score_predict:.2f}\") "
   ]
  }
 ],
 "metadata": {
  "kernelspec": {
   "display_name": "Python 3",
   "language": "python",
   "name": "python3"
  },
  "language_info": {
   "codemirror_mode": {
    "name": "ipython",
    "version": 3
   },
   "file_extension": ".py",
   "mimetype": "text/x-python",
   "name": "python",
   "nbconvert_exporter": "python",
   "pygments_lexer": "ipython3",
   "version": "3.7.10"
  }
 },
 "nbformat": 4,
 "nbformat_minor": 5
}
