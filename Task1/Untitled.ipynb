{
 "cells": [
  {
   "cell_type": "markdown",
   "id": "f55bcc15-c04e-4cc3-8a86-942e0d535296",
   "metadata": {},
   "source": [
    "# The Sparks Foundation"
   ]
  },
  {
   "cell_type": "markdown",
   "id": "365ad37b-b2a8-4f0d-9558-dea8139dac92",
   "metadata": {},
   "source": [
    "## Task1 - Prediction using Supervised ML \n",
    "- Predict the percentage of an student based on the no. of study hours. \n",
    "- This is a simple linear  regression task as it involves just 2 variables.\n",
    "- You can use R, Python, SAS Enterprise Miner or any other tool  \n",
    "- Data can be found at http://bit.ly/w-data \n",
    "- What will be predicted score if a student studies for 9.25 hrs/ day? "
   ]
  },
  {
   "cell_type": "code",
   "execution_count": 1,
   "id": "d9ffac44-6d72-452f-aa45-bf89ad112be9",
   "metadata": {},
   "outputs": [],
   "source": [
    "import pandas as pd"
   ]
  },
  {
   "cell_type": "code",
   "execution_count": null,
   "id": "452c78ec-cba5-4f3e-9a53-d8ee8fa4800e",
   "metadata": {},
   "outputs": [],
   "source": [
    "df = pd.read_txt"
   ]
  }
 ],
 "metadata": {
  "kernelspec": {
   "display_name": "Python 3",
   "language": "python",
   "name": "python3"
  },
  "language_info": {
   "codemirror_mode": {
    "name": "ipython",
    "version": 3
   },
   "file_extension": ".py",
   "mimetype": "text/x-python",
   "name": "python",
   "nbconvert_exporter": "python",
   "pygments_lexer": "ipython3",
   "version": "3.7.10"
  }
 },
 "nbformat": 4,
 "nbformat_minor": 5
}
